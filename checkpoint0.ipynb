{
  "cells": [
    {
      "cell_type": "markdown",
      "metadata": {
        "id": "0a8IYAJUshu1"
      },
      "source": [
        "# Checkpoint 0"
      ],
      "id": "0a8IYAJUshu1"
    },
    {
      "cell_type": "markdown",
      "metadata": {
        "id": "4ojgxEQIx6fG"
      },
      "source": [
        "These exercises are a mix of Python and Pandas practice. Most should be no more than a few lines of code!"
      ],
      "id": "4ojgxEQIx6fG"
    },
    {
      "cell_type": "code",
      "execution_count": 1,
      "metadata": {
        "id": "Jo6wuTgkshu1"
      },
      "outputs": [],
      "source": [
        "# here is a Python list:\n",
        "\n",
        "a = [1, 2, 3, 4, 5, 6]\n"
      ],
      "id": "Jo6wuTgkshu1"
    },
    {
      "cell_type": "code",
      "execution_count": 2,
      "id": "779d96b1",
      "metadata": {
        "id": "779d96b1",
        "outputId": "f381ade8-31c2-49a4-a06f-ca8ff68aafab",
        "colab": {
          "base_uri": "https://localhost:8080/"
        }
      },
      "outputs": [
        {
          "output_type": "stream",
          "name": "stdout",
          "text": [
            "[4, 5, 6]\n"
          ]
        }
      ],
      "source": [
        "# get a list containing the last 3 elements of a\n",
        "# Yes, you can just type out [4, 5, 6] but we really want to see you demonstrate you know how to use list slicing in Python\n",
        "last_three = a[-3:]\n",
        "print(last_three)"
      ]
    },
    {
      "cell_type": "code",
      "execution_count": 3,
      "id": "b6a54def",
      "metadata": {
        "id": "b6a54def",
        "outputId": "20a7cead-9525-46f6-9beb-e46ecaf3fd81",
        "colab": {
          "base_uri": "https://localhost:8080/"
        }
      },
      "outputs": [
        {
          "output_type": "stream",
          "name": "stdout",
          "text": [
            "[1, 2, 3, 4, 5, 6, 7, 8, 9, 10, 11, 12, 13, 14, 15, 16, 17, 18, 19, 20]\n"
          ]
        }
      ],
      "source": [
        "# create a list of numbers from 1 to 20\n",
        "numbers = list(range(1,21))\n",
        "print(numbers)"
      ]
    },
    {
      "cell_type": "code",
      "execution_count": 4,
      "id": "487873ac",
      "metadata": {
        "id": "487873ac",
        "outputId": "a6a1a839-c29c-40e8-f1a7-437d493e8dcb",
        "colab": {
          "base_uri": "https://localhost:8080/"
        }
      },
      "outputs": [
        {
          "output_type": "stream",
          "name": "stdout",
          "text": [
            "[2, 4, 6, 8, 10, 12, 14, 16, 18, 20, 22, 24, 26, 28, 30, 32, 34, 36, 38, 40, 42, 44, 46, 48, 50, 52, 54, 56, 58, 60, 62, 64, 66, 68, 70, 72, 74, 76, 78, 80, 82, 84, 86, 88, 90, 92, 94, 96, 98, 100]\n"
          ]
        }
      ],
      "source": [
        "# now get a list with only the even numbers between 1 and 100\n",
        "# you may or may not make use of the list you made in the last cell\n",
        "even_numbers = list(range(2,101,2))\n",
        "print(even_numbers)"
      ]
    },
    {
      "cell_type": "code",
      "execution_count": 5,
      "id": "3d4bb5dd",
      "metadata": {
        "id": "3d4bb5dd",
        "outputId": "9f778aab-0618-45fe-ae26-c18a1cfa5d3e",
        "colab": {
          "base_uri": "https://localhost:8080/"
        }
      },
      "outputs": [
        {
          "output_type": "stream",
          "name": "stdout",
          "text": [
            "5.0\n"
          ]
        }
      ],
      "source": [
        "# write a function that takes two numbers as arguments\n",
        "# and returns the first number divided by the second\n",
        "def divide_numbers(num1, num2):\n",
        "    if num2 == 0:\n",
        "        return \"Division by zero is not allowed.\"\n",
        "    return num1 / num2\n",
        "\n",
        "result = divide_numbers(10, 2)\n",
        "print(result)\n",
        "\n"
      ]
    },
    {
      "cell_type": "code",
      "execution_count": 6,
      "id": "f55df04e",
      "metadata": {
        "id": "f55df04e",
        "outputId": "535f0241-a712-4b5b-b256-0cb0c29accd8",
        "colab": {
          "base_uri": "https://localhost:8080/"
        }
      },
      "outputs": [
        {
          "output_type": "stream",
          "name": "stdout",
          "text": [
            "1\n",
            "2\n",
            "fizz\n",
            "4\n",
            "buzz\n",
            "fizz\n",
            "7\n",
            "8\n",
            "fizz\n",
            "buzz\n",
            "11\n",
            "fizz\n",
            "13\n",
            "14\n",
            "fizzbuzz\n",
            "16\n",
            "17\n",
            "fizz\n",
            "19\n",
            "buzz\n",
            "fizz\n",
            "22\n",
            "23\n",
            "fizz\n",
            "buzz\n",
            "26\n",
            "fizz\n",
            "28\n",
            "29\n",
            "fizzbuzz\n"
          ]
        }
      ],
      "source": [
        "# fizzbuzz\n",
        "# you will need to use both iteration and control flow\n",
        "# go through all numbers from 1 to 30 in order\n",
        "# if the number is a multiple of 3, print fizz\n",
        "# if the number is a multiple of 5, print buzz\n",
        "# if the number is a multiple of 3 and 5, print fizzbuzz and NOTHING ELSE\n",
        "# if the number is neither a multiple of 3 nor a multiple of 5, print the number\n",
        "\n",
        "def fizzbuzz():\n",
        "    for i in range(1, 31):\n",
        "        if i % 3 == 0 and i % 5 == 0:\n",
        "            print(\"fizzbuzz\")\n",
        "        elif i % 3 == 0:\n",
        "            print(\"fizz\")\n",
        "        elif i % 5 == 0:\n",
        "            print(\"buzz\")\n",
        "        else:\n",
        "            print(i)\n",
        "\n",
        "fizzbuzz()\n"
      ]
    },
    {
      "cell_type": "code",
      "execution_count": 7,
      "id": "78aace0b",
      "metadata": {
        "id": "78aace0b",
        "outputId": "211c693e-5e8b-441c-ae15-d6e2e7afacdb",
        "colab": {
          "base_uri": "https://localhost:8080/"
        }
      },
      "outputs": [
        {
          "output_type": "stream",
          "name": "stdout",
          "text": [
            "{'Gyro': 9, 'Burger': 9, 'Greek Salad': 8, 'Philly Steak': 10}\n"
          ]
        }
      ],
      "source": [
        "# create a dictionary that reflects the following menu pricing (taken from Ahmo's)\n",
        "# Gyro: $9\n",
        "# Burger: $9\n",
        "# Greek Salad: $8\n",
        "# Philly Steak: $10\n",
        "\n",
        "menu = {\n",
        "    \"Gyro\": 9,\n",
        "    \"Burger\": 9,\n",
        "    \"Greek Salad\": 8,\n",
        "    \"Philly Steak\": 10\n",
        "}\n",
        "\n",
        "print(menu)\n"
      ]
    },
    {
      "cell_type": "code",
      "execution_count": 9,
      "metadata": {
        "colab": {
          "base_uri": "https://localhost:8080/",
          "height": 574
        },
        "id": "WzCQ5HOJshvA",
        "outputId": "1dd41791-5cbf-438f-d780-b45a30f58d29"
      },
      "outputs": [
        {
          "output_type": "display_data",
          "data": {
            "text/plain": [
              "<IPython.core.display.HTML object>"
            ],
            "text/html": [
              "\n",
              "     <input type=\"file\" id=\"files-32b43f0b-227d-445f-962b-6c4f90e367c7\" name=\"files[]\" multiple disabled\n",
              "        style=\"border:none\" />\n",
              "     <output id=\"result-32b43f0b-227d-445f-962b-6c4f90e367c7\">\n",
              "      Upload widget is only available when the cell has been executed in the\n",
              "      current browser session. Please rerun this cell to enable.\n",
              "      </output>\n",
              "      <script>// Copyright 2017 Google LLC\n",
              "//\n",
              "// Licensed under the Apache License, Version 2.0 (the \"License\");\n",
              "// you may not use this file except in compliance with the License.\n",
              "// You may obtain a copy of the License at\n",
              "//\n",
              "//      http://www.apache.org/licenses/LICENSE-2.0\n",
              "//\n",
              "// Unless required by applicable law or agreed to in writing, software\n",
              "// distributed under the License is distributed on an \"AS IS\" BASIS,\n",
              "// WITHOUT WARRANTIES OR CONDITIONS OF ANY KIND, either express or implied.\n",
              "// See the License for the specific language governing permissions and\n",
              "// limitations under the License.\n",
              "\n",
              "/**\n",
              " * @fileoverview Helpers for google.colab Python module.\n",
              " */\n",
              "(function(scope) {\n",
              "function span(text, styleAttributes = {}) {\n",
              "  const element = document.createElement('span');\n",
              "  element.textContent = text;\n",
              "  for (const key of Object.keys(styleAttributes)) {\n",
              "    element.style[key] = styleAttributes[key];\n",
              "  }\n",
              "  return element;\n",
              "}\n",
              "\n",
              "// Max number of bytes which will be uploaded at a time.\n",
              "const MAX_PAYLOAD_SIZE = 100 * 1024;\n",
              "\n",
              "function _uploadFiles(inputId, outputId) {\n",
              "  const steps = uploadFilesStep(inputId, outputId);\n",
              "  const outputElement = document.getElementById(outputId);\n",
              "  // Cache steps on the outputElement to make it available for the next call\n",
              "  // to uploadFilesContinue from Python.\n",
              "  outputElement.steps = steps;\n",
              "\n",
              "  return _uploadFilesContinue(outputId);\n",
              "}\n",
              "\n",
              "// This is roughly an async generator (not supported in the browser yet),\n",
              "// where there are multiple asynchronous steps and the Python side is going\n",
              "// to poll for completion of each step.\n",
              "// This uses a Promise to block the python side on completion of each step,\n",
              "// then passes the result of the previous step as the input to the next step.\n",
              "function _uploadFilesContinue(outputId) {\n",
              "  const outputElement = document.getElementById(outputId);\n",
              "  const steps = outputElement.steps;\n",
              "\n",
              "  const next = steps.next(outputElement.lastPromiseValue);\n",
              "  return Promise.resolve(next.value.promise).then((value) => {\n",
              "    // Cache the last promise value to make it available to the next\n",
              "    // step of the generator.\n",
              "    outputElement.lastPromiseValue = value;\n",
              "    return next.value.response;\n",
              "  });\n",
              "}\n",
              "\n",
              "/**\n",
              " * Generator function which is called between each async step of the upload\n",
              " * process.\n",
              " * @param {string} inputId Element ID of the input file picker element.\n",
              " * @param {string} outputId Element ID of the output display.\n",
              " * @return {!Iterable<!Object>} Iterable of next steps.\n",
              " */\n",
              "function* uploadFilesStep(inputId, outputId) {\n",
              "  const inputElement = document.getElementById(inputId);\n",
              "  inputElement.disabled = false;\n",
              "\n",
              "  const outputElement = document.getElementById(outputId);\n",
              "  outputElement.innerHTML = '';\n",
              "\n",
              "  const pickedPromise = new Promise((resolve) => {\n",
              "    inputElement.addEventListener('change', (e) => {\n",
              "      resolve(e.target.files);\n",
              "    });\n",
              "  });\n",
              "\n",
              "  const cancel = document.createElement('button');\n",
              "  inputElement.parentElement.appendChild(cancel);\n",
              "  cancel.textContent = 'Cancel upload';\n",
              "  const cancelPromise = new Promise((resolve) => {\n",
              "    cancel.onclick = () => {\n",
              "      resolve(null);\n",
              "    };\n",
              "  });\n",
              "\n",
              "  // Wait for the user to pick the files.\n",
              "  const files = yield {\n",
              "    promise: Promise.race([pickedPromise, cancelPromise]),\n",
              "    response: {\n",
              "      action: 'starting',\n",
              "    }\n",
              "  };\n",
              "\n",
              "  cancel.remove();\n",
              "\n",
              "  // Disable the input element since further picks are not allowed.\n",
              "  inputElement.disabled = true;\n",
              "\n",
              "  if (!files) {\n",
              "    return {\n",
              "      response: {\n",
              "        action: 'complete',\n",
              "      }\n",
              "    };\n",
              "  }\n",
              "\n",
              "  for (const file of files) {\n",
              "    const li = document.createElement('li');\n",
              "    li.append(span(file.name, {fontWeight: 'bold'}));\n",
              "    li.append(span(\n",
              "        `(${file.type || 'n/a'}) - ${file.size} bytes, ` +\n",
              "        `last modified: ${\n",
              "            file.lastModifiedDate ? file.lastModifiedDate.toLocaleDateString() :\n",
              "                                    'n/a'} - `));\n",
              "    const percent = span('0% done');\n",
              "    li.appendChild(percent);\n",
              "\n",
              "    outputElement.appendChild(li);\n",
              "\n",
              "    const fileDataPromise = new Promise((resolve) => {\n",
              "      const reader = new FileReader();\n",
              "      reader.onload = (e) => {\n",
              "        resolve(e.target.result);\n",
              "      };\n",
              "      reader.readAsArrayBuffer(file);\n",
              "    });\n",
              "    // Wait for the data to be ready.\n",
              "    let fileData = yield {\n",
              "      promise: fileDataPromise,\n",
              "      response: {\n",
              "        action: 'continue',\n",
              "      }\n",
              "    };\n",
              "\n",
              "    // Use a chunked sending to avoid message size limits. See b/62115660.\n",
              "    let position = 0;\n",
              "    do {\n",
              "      const length = Math.min(fileData.byteLength - position, MAX_PAYLOAD_SIZE);\n",
              "      const chunk = new Uint8Array(fileData, position, length);\n",
              "      position += length;\n",
              "\n",
              "      const base64 = btoa(String.fromCharCode.apply(null, chunk));\n",
              "      yield {\n",
              "        response: {\n",
              "          action: 'append',\n",
              "          file: file.name,\n",
              "          data: base64,\n",
              "        },\n",
              "      };\n",
              "\n",
              "      let percentDone = fileData.byteLength === 0 ?\n",
              "          100 :\n",
              "          Math.round((position / fileData.byteLength) * 100);\n",
              "      percent.textContent = `${percentDone}% done`;\n",
              "\n",
              "    } while (position < fileData.byteLength);\n",
              "  }\n",
              "\n",
              "  // All done.\n",
              "  yield {\n",
              "    response: {\n",
              "      action: 'complete',\n",
              "    }\n",
              "  };\n",
              "}\n",
              "\n",
              "scope.google = scope.google || {};\n",
              "scope.google.colab = scope.google.colab || {};\n",
              "scope.google.colab._files = {\n",
              "  _uploadFiles,\n",
              "  _uploadFilesContinue,\n",
              "};\n",
              "})(self);\n",
              "</script> "
            ]
          },
          "metadata": {}
        },
        {
          "output_type": "stream",
          "name": "stdout",
          "text": [
            "Saving starbucks.csv to starbucks (1).csv\n",
            "<class 'pandas.core.frame.DataFrame'>\n",
            "         beverage_category       beverage      beverage_prep  calories  \\\n",
            "0                   coffee  brewed coffee              Short         3   \n",
            "1                   coffee  brewed coffee               Tall         4   \n",
            "2                   coffee  brewed coffee             Grande         5   \n",
            "3                   coffee  brewed coffee              Venti         5   \n",
            "4  classic espresso drinks     caff latte  Short Nonfat Milk        70   \n",
            "\n",
            "   total fat  trans fat  saturated fat  sodium  total carbohydrates  \\\n",
            "0        0.1        0.0            0.0       0                    5   \n",
            "1        0.1        0.0            0.0       0                   10   \n",
            "2        0.1        0.0            0.0       0                   10   \n",
            "3        0.1        0.0            0.0       0                   10   \n",
            "4        0.1        0.1            0.0       5                   75   \n",
            "\n",
            "   cholesterol  dietary fibre  sugars  protein  vitamin a  vitamin c  calcium  \\\n",
            "0            0              0       0      0.3          0          0        0   \n",
            "1            0              0       0      0.5          0          0        0   \n",
            "2            0              0       0      1.0          0          0        0   \n",
            "3            0              0       0      1.0          0          0        2   \n",
            "4           10              0       9      6.0         10          0       20   \n",
            "\n",
            "   iron  caffeine  \n",
            "0   0.0     175.0  \n",
            "1   0.0     260.0  \n",
            "2   0.0     330.0  \n",
            "3   0.0     410.0  \n",
            "4   0.0      75.0  \n"
          ]
        }
      ],
      "source": [
        "# load in the \"starbucks.csv\" dataset\n",
        "# refer to how we read the cereal.csv dataset in the tutorial\n",
        "from google.colab import files\n",
        "uploaded = files.upload()\n",
        "\n",
        "import pandas as pd\n",
        "\n",
        "# Replace 'path_to_starbucks.csv' with the correct path to your file\n",
        "df = pd.read_csv(\"starbucks.csv\")\n",
        "\n",
        "# Check the type and first few rows of the dataframe\n",
        "print(type(df))\n",
        "print(df.head())\n",
        "\n"
      ],
      "id": "WzCQ5HOJshvA"
    },
    {
      "cell_type": "code",
      "execution_count": 10,
      "id": "ac0f0c12",
      "metadata": {
        "id": "ac0f0c12",
        "outputId": "7a1bbacc-3e17-42c8-8aaf-3751b0ae623e",
        "colab": {
          "base_uri": "https://localhost:8080/"
        }
      },
      "outputs": [
        {
          "output_type": "stream",
          "name": "stdout",
          "text": [
            "              beverage_category  \\\n",
            "81    signature espresso drinks   \n",
            "83    signature espresso drinks   \n",
            "84    signature espresso drinks   \n",
            "85    signature espresso drinks   \n",
            "128             tazo tea drinks   \n",
            "214  frappuccino blended coffee   \n",
            "215  frappuccino blended coffee   \n",
            "216  frappuccino blended coffee   \n",
            "\n",
            "                                          beverage      beverage_prep  \\\n",
            "81   white chocolate mocha (without whipped cream)            2% Milk   \n",
            "83   white chocolate mocha (without whipped cream)  Venti Nonfat Milk   \n",
            "84   white chocolate mocha (without whipped cream)            2% Milk   \n",
            "85   white chocolate mocha (without whipped cream)            Soymilk   \n",
            "128                           tazo green tea latte            2% Milk   \n",
            "214              java chip (without whipped cream)  Venti Nonfat Milk   \n",
            "215              java chip (without whipped cream)         Whole Milk   \n",
            "216              java chip (without whipped cream)            Soymilk   \n",
            "\n",
            "     calories  total fat  trans fat  saturated fat  sodium  \\\n",
            "81        400       11.0        7.0            0.2      25   \n",
            "83        450        7.0        6.0            0.0      10   \n",
            "84        510       15.0        9.0            0.2      35   \n",
            "85        460       13.0        6.0            0.0       5   \n",
            "128       450       10.0        5.0            0.3      40   \n",
            "214       420        5.0        4.0            0.0       5   \n",
            "215       460       10.0        7.0            0.2      15   \n",
            "216       430        8.0        4.5            0.0       0   \n",
            "\n",
            "     total carbohydrates  cholesterol  dietary fibre  sugars  protein  \\\n",
            "81                   250           61              0      58     15.0   \n",
            "83                   310           78              0      74     19.0   \n",
            "84                   330           77              0      74     19.0   \n",
            "85                   290           70              1      64     16.0   \n",
            "128                  230           72              2      71     17.0   \n",
            "214                  340           90              2      84      7.0   \n",
            "215                  340           90              2      84      7.0   \n",
            "216                  330           88              3      80      6.0   \n",
            "\n",
            "     vitamin a  vitamin c  calcium  iron  caffeine  \n",
            "81          15          2       45   0.0     150.0  \n",
            "83          25          2       60   2.0     150.0  \n",
            "84          20          4       60   2.0     150.0  \n",
            "85          15          2       60  20.0     150.0  \n",
            "128         25         20       50   6.0     110.0  \n",
            "214         10          0       20  35.0     145.0  \n",
            "215          6          0       15  35.0     145.0  \n",
            "216          6          0       20  40.0     145.0  \n"
          ]
        }
      ],
      "source": [
        "# select all rows with more than and including 400 calories\n",
        "\n",
        "import pandas as pd\n",
        "\n",
        "# Load the dataset\n",
        "df = pd.read_csv(\"starbucks.csv\")\n",
        "\n",
        "# Select all rows where the 'calories' are 400 or more\n",
        "high_calories = df[df['calories'] >= 400]\n",
        "\n",
        "# Display the result\n",
        "print(high_calories)\n"
      ]
    },
    {
      "cell_type": "code",
      "execution_count": 11,
      "id": "ee8f8241",
      "metadata": {
        "id": "ee8f8241",
        "outputId": "22cc07ca-bed1-49fe-ffb4-e080ebb88acf",
        "colab": {
          "base_uri": "https://localhost:8080/"
        }
      },
      "outputs": [
        {
          "output_type": "stream",
          "name": "stdout",
          "text": [
            "             beverage_category  \\\n",
            "11     classic espresso drinks   \n",
            "14     classic espresso drinks   \n",
            "35     classic espresso drinks   \n",
            "38     classic espresso drinks   \n",
            "69   signature espresso drinks   \n",
            "72   signature espresso drinks   \n",
            "75   signature espresso drinks   \n",
            "77   signature espresso drinks   \n",
            "78   signature espresso drinks   \n",
            "81   signature espresso drinks   \n",
            "84   signature espresso drinks   \n",
            "118            tazo tea drinks   \n",
            "119            tazo tea drinks   \n",
            "121            tazo tea drinks   \n",
            "122            tazo tea drinks   \n",
            "124            tazo tea drinks   \n",
            "125            tazo tea drinks   \n",
            "127            tazo tea drinks   \n",
            "128            tazo tea drinks   \n",
            "169      shaken iced beverages   \n",
            "170      shaken iced beverages   \n",
            "171      shaken iced beverages   \n",
            "172                  smoothies   \n",
            "175                  smoothies   \n",
            "176                  smoothies   \n",
            "177                  smoothies   \n",
            "178                  smoothies   \n",
            "179                  smoothies   \n",
            "180                  smoothies   \n",
            "229   frappuccino blended crme   \n",
            "230   frappuccino blended crme   \n",
            "232   frappuccino blended crme   \n",
            "233   frappuccino blended crme   \n",
            "235   frappuccino blended crme   \n",
            "236   frappuccino blended crme   \n",
            "\n",
            "                                              beverage       beverage_prep  \\\n",
            "11                                          caff latte             2% Milk   \n",
            "14                                          caff latte             2% Milk   \n",
            "35            vanilla latte (or other flavoured latte)             2% Milk   \n",
            "38            vanilla latte (or other flavoured latte)             2% Milk   \n",
            "69                                   caramel macchiato             2% Milk   \n",
            "72                                   caramel macchiato             2% Milk   \n",
            "75       white chocolate mocha (without whipped cream)             2% Milk   \n",
            "77       white chocolate mocha (without whipped cream)    Tall Nonfat Milk   \n",
            "78       white chocolate mocha (without whipped cream)             2% Milk   \n",
            "81       white chocolate mocha (without whipped cream)             2% Milk   \n",
            "84       white chocolate mocha (without whipped cream)             2% Milk   \n",
            "118                               tazo green tea latte   Short Nonfat Milk   \n",
            "119                               tazo green tea latte             2% Milk   \n",
            "121                               tazo green tea latte    Tall Nonfat Milk   \n",
            "122                               tazo green tea latte             2% Milk   \n",
            "124                               tazo green tea latte  Grande Nonfat Milk   \n",
            "125                               tazo green tea latte             2% Milk   \n",
            "127                               tazo green tea latte   Venti Nonfat Milk   \n",
            "128                               tazo green tea latte             2% Milk   \n",
            "169  shaken iced tazo tea lemonade (with classic sy...                Tall   \n",
            "170  shaken iced tazo tea lemonade (with classic sy...              Grande   \n",
            "171  shaken iced tazo tea lemonade (with classic sy...               Venti   \n",
            "172                          banana chocolate smoothie  Grande Nonfat Milk   \n",
            "175                       orange mango banana smoothie  Grande Nonfat Milk   \n",
            "176                       orange mango banana smoothie             2% Milk   \n",
            "177                       orange mango banana smoothie             Soymilk   \n",
            "178                         strawberry banana smoothie  Grande Nonfat Milk   \n",
            "179                         strawberry banana smoothie             2% Milk   \n",
            "180                         strawberry banana smoothie             Soymilk   \n",
            "229         strawberries  crme (without whipped cream)    Tall Nonfat Milk   \n",
            "230         strawberries  crme (without whipped cream)          Whole Milk   \n",
            "232         strawberries  crme (without whipped cream)  Grande Nonfat Milk   \n",
            "233         strawberries  crme (without whipped cream)          Whole Milk   \n",
            "235         strawberries  crme (without whipped cream)   Venti Nonfat Milk   \n",
            "236         strawberries  crme (without whipped cream)          Whole Milk   \n",
            "\n",
            "     calories  total fat  trans fat  saturated fat  sodium  \\\n",
            "11        190        7.0        3.5            0.2      30   \n",
            "14        240        9.0        4.5            0.3      35   \n",
            "35        250        6.0        3.5            0.2      25   \n",
            "38        320        9.0        4.5            0.3      35   \n",
            "69        240        7.0        3.5            0.2      25   \n",
            "72        300        8.0        4.5            0.2      35   \n",
            "75        200        6.0        3.5            0.1      15   \n",
            "77        270        4.5        3.5            0.0       5   \n",
            "78        310        9.0        6.0            0.1      20   \n",
            "81        400       11.0        7.0            0.2      25   \n",
            "84        510       15.0        9.0            0.2      35   \n",
            "118       130        0.2        0.1            0.0       5   \n",
            "119       170        4.0        2.0            0.1      15   \n",
            "121       210        0.4        0.2            0.0       5   \n",
            "122       260        6.0        3.0            0.2      25   \n",
            "124       290        0.5        0.2            0.0      10   \n",
            "125       350        8.0        4.0            0.2      30   \n",
            "127       370        0.5        0.3            0.0      10   \n",
            "128       450       10.0        5.0            0.3      40   \n",
            "169       100        0.0        0.0            0.0       0   \n",
            "170       130        0.0        0.0            0.0       0   \n",
            "171       190        0.0        0.0            0.0       0   \n",
            "172       280        2.5        1.5            0.0       5   \n",
            "175       260        1.0        0.3            0.0       5   \n",
            "176       270        1.5        0.5            0.0       5   \n",
            "177       270        1.5        0.4            0.0       5   \n",
            "178       290        1.0        0.3            0.0       5   \n",
            "179       290        2.0        1.0            0.0       5   \n",
            "180       290        2.0        0.4            0.0       5   \n",
            "229       170        0.1        0.1            0.0       0   \n",
            "230       190        3.0        1.5            0.1      10   \n",
            "232       230        0.2        0.1            0.0       0   \n",
            "233       260        4.0        2.0            0.1      10   \n",
            "235       310        0.2        0.1            0.0       5   \n",
            "236       350        6.0        3.0            0.2      15   \n",
            "\n",
            "     total carbohydrates  cholesterol  dietary fibre  sugars  protein  \\\n",
            "11                   170           19              0      17     12.0   \n",
            "14                   220           24              0      22     16.0   \n",
            "35                   150           37              0      35     12.0   \n",
            "38                   200           46              0      44     15.0   \n",
            "69                   150           34              0      32     10.0   \n",
            "72                   180           43              0      40     13.0   \n",
            "75                   125           31              0      29      7.0   \n",
            "77                   190           47              0      45     12.0   \n",
            "78                   200           46              0      44     11.0   \n",
            "81                   250           61              0      58     15.0   \n",
            "84                   330           77              0      74     19.0   \n",
            "118                   85           26              0      25      7.0   \n",
            "119                   95           26              0      25      7.0   \n",
            "121                  125           42              1      41     11.0   \n",
            "122                  140           41              1      40     10.0   \n",
            "124                  160           57              1      56     14.0   \n",
            "125                  180           57              1      55     14.0   \n",
            "127                  200           73              2      71     18.0   \n",
            "128                  230           72              2      71     17.0   \n",
            "169                    0           25              0      24      0.1   \n",
            "170                    0           33              0      33      0.1   \n",
            "171                    0           49              0      49      0.1   \n",
            "172                  150           53              7      34     20.0   \n",
            "175                  120           54              6      37     16.0   \n",
            "176                  125           53              6      37     16.0   \n",
            "177                  120           53              6      36     15.0   \n",
            "178                  125           58              7      41     16.0   \n",
            "179                  125           58              7      41     16.0   \n",
            "180                  120           58              8      40     16.0   \n",
            "229                  140           39              0      38      3.0   \n",
            "230                  140           38              0      37      3.0   \n",
            "232                  190           53              0      52      4.0   \n",
            "233                  190           53              0      52      4.0   \n",
            "235                  260           70              0      69      6.0   \n",
            "236                  260           70              0      68      6.0   \n",
            "\n",
            "     vitamin a  vitamin c  calcium  iron    caffeine  \n",
            "11          20          2       40   0.0  150.000000  \n",
            "14          25          2       50   0.0  150.000000  \n",
            "35          20          2       35   0.0  150.000000  \n",
            "38          25          2       45   0.0  150.000000  \n",
            "69          15          2       30   0.0  150.000000  \n",
            "72          20          2       40   0.0  150.000000  \n",
            "75           8          2       25   0.0   75.000000  \n",
            "77          15          2       35   0.0   75.000000  \n",
            "78          15          2       35   0.0   75.000000  \n",
            "81          15          2       45   0.0  150.000000  \n",
            "84          20          4       60   2.0  150.000000  \n",
            "118         10          4       20   2.0   25.000000  \n",
            "119         10          6       20   2.0   25.000000  \n",
            "121         20         10       35   4.0   55.000000  \n",
            "122         15         10       35   4.0   55.000000  \n",
            "124         25         15       45   4.0   80.000000  \n",
            "125         20         15       45   4.0   80.000000  \n",
            "127         30         20       60   6.0  110.000000  \n",
            "128         25         20       50   6.0  110.000000  \n",
            "169          0         10        0   0.0   89.520548  \n",
            "170          0         15        0   0.0   89.520548  \n",
            "171          0         20        0   0.0   89.520548  \n",
            "172         10         15       20   0.0   89.520548  \n",
            "175         50         80       10  30.0   15.000000  \n",
            "176         50         80       10   6.0    0.000000  \n",
            "177         50         80       10   6.0    0.000000  \n",
            "178          4        100       10   8.0    0.000000  \n",
            "179          4        100       10   8.0    0.000000  \n",
            "180          2        100       10   8.0    0.000000  \n",
            "229          6          6       10   2.0    0.000000  \n",
            "230          4          6       10   2.0    0.000000  \n",
            "232          8          6       15   4.0    0.000000  \n",
            "233          6          6       15   4.0    0.000000  \n",
            "235         10          8       20   4.0    0.000000  \n",
            "236          8          8       20   4.0    0.000000  \n"
          ]
        }
      ],
      "source": [
        "# select all rows whose vitamin c content is higher than the iron content\n",
        "import pandas as pd\n",
        "\n",
        "# Load the dataset\n",
        "df = pd.read_csv(\"starbucks.csv\")\n",
        "\n",
        "# Select all rows where 'vitamin c' content is higher than 'iron' content\n",
        "vitamin_c_more_than_iron = df[df['vitamin c'] > df['iron']]\n",
        "\n",
        "# Display the result\n",
        "print(vitamin_c_more_than_iron)\n"
      ]
    },
    {
      "cell_type": "code",
      "execution_count": null,
      "id": "d4de48bb",
      "metadata": {
        "id": "d4de48bb"
      },
      "outputs": [],
      "source": [
        "# create a new column containing the caffeine per calories of each drink\n",
        "import pandas as pd\n",
        "\n",
        "# Load the dataset\n",
        "df = pd.read_csv(\"starbucks.csv\")\n",
        "\n",
        "# Create a new column 'caffeine_per_calories' containing the caffeine per calorie for each drink\n",
        "df['caffeine_per_calories'] = df['caffeine'] / df['calories']\n",
        "\n",
        "# Display the result\n",
        "print(df.head())\n"
      ]
    },
    {
      "cell_type": "code",
      "execution_count": null,
      "metadata": {
        "id": "rIoxaSxHshvB"
      },
      "outputs": [],
      "source": [
        "# what is the average calorie across all items?\n",
        "import pandas as pd\n",
        "\n",
        "# Load the dataset\n",
        "df = pd.read_csv(\"starbucks.csv\")\n",
        "\n",
        "# Calculate the average calories across all items\n",
        "average_calories = df['calories'].mean()\n",
        "\n",
        "# Print the result\n",
        "print(f\"The average calorie content across all items is: {average_calories}\")\n"
      ],
      "id": "rIoxaSxHshvB"
    },
    {
      "cell_type": "code",
      "execution_count": null,
      "metadata": {
        "id": "ABX7i49FshvD"
      },
      "outputs": [],
      "source": [
        "# Calculate the number of different categories of beverages\n",
        "unique_categories = df['beverage_category'].nunique()\n",
        "\n",
        "# Print the result\n",
        "print(f\"There are {unique_categories} different categories of beverages.\")\n"
      ],
      "id": "ABX7i49FshvD"
    },
    {
      "cell_type": "code",
      "execution_count": 12,
      "metadata": {
        "colab": {
          "base_uri": "https://localhost:8080/"
        },
        "id": "P9QatZAzshvE",
        "outputId": "f1de9236-8986-4332-b23c-ad51de330b0f"
      },
      "outputs": [
        {
          "output_type": "stream",
          "name": "stdout",
          "text": [
            "beverage_category\n",
            "classic espresso drinks             140.172414\n",
            "coffee                                4.250000\n",
            "frappuccino blended coffee          276.944444\n",
            "frappuccino blended crme            233.076923\n",
            "frappuccino light blended coffee    162.500000\n",
            "shaken iced beverages               114.444444\n",
            "signature espresso drinks           250.000000\n",
            "smoothies                           282.222222\n",
            "tazo tea drinks                     177.307692\n",
            "Name: calories, dtype: float64\n"
          ]
        }
      ],
      "source": [
        "# what is the average # calories for each beverage category?\n",
        "\n",
        "# Calculate the average calories for each beverage category\n",
        "average_calories_per_category = df.groupby('beverage_category')['calories'].mean()\n",
        "\n",
        "# Print the result\n",
        "print(average_calories_per_category)\n"
      ],
      "id": "P9QatZAzshvE"
    }
  ],
  "metadata": {
    "kernelspec": {
      "display_name": "Python 3.9.0 64-bit",
      "language": "python",
      "name": "python3"
    },
    "language_info": {
      "codemirror_mode": {
        "name": "ipython",
        "version": 3
      },
      "file_extension": ".py",
      "mimetype": "text/x-python",
      "name": "python",
      "nbconvert_exporter": "python",
      "pygments_lexer": "ipython3",
      "version": "3.9.0"
    },
    "vscode": {
      "interpreter": {
        "hash": "6cf8df3ff69f85f626faf55c10df6fe2cb9d1236b4dc73844ee4dc01369c2c99"
      }
    },
    "colab": {
      "provenance": []
    }
  },
  "nbformat": 4,
  "nbformat_minor": 5
}